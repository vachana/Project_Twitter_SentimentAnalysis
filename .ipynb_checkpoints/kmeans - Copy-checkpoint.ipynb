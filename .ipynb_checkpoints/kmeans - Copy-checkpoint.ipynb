{
 "cells": [
  {
   "cell_type": "code",
   "execution_count": 89,
   "metadata": {},
   "outputs": [
    {
     "name": "stdout",
     "output_type": "stream",
     "text": [
      "    nouncount  adjectivecount  pronouncount  adverbcount  pos_words  \\\n",
      "0    0.105139        0.098198      0.041470     0.030055   2.044192   \n",
      "1    0.222596        0.028947      0.044684     0.000000   0.376309   \n",
      "2    0.194861        0.048089      0.019363     0.000000   0.000000   \n",
      "3    0.138421        0.078070      0.036644     0.030747   0.413919   \n",
      "4    0.090290        0.095891      0.026909     0.040074   1.442656   \n",
      "..        ...             ...           ...          ...        ...   \n",
      "95   0.322793        0.100079      0.036494     0.000000   0.721328   \n",
      "96   0.342374        0.167080      0.000000     0.000000   0.000000   \n",
      "97   0.085392        0.102310      0.047823     0.056139   0.376309   \n",
      "98   0.124915        0.164216      0.022342     0.128872   0.000000   \n",
      "99   0.207336        0.000000      0.034049     0.049130   0.540090   \n",
      "\n",
      "    neg_words  y  \n",
      "0    0.000000  4  \n",
      "1    0.000000  4  \n",
      "2    0.630709  4  \n",
      "3    0.811947  4  \n",
      "4    0.000000  4  \n",
      "..        ... ..  \n",
      "95   0.601536  4  \n",
      "96   0.668319  0  \n",
      "97   2.090822  0  \n",
      "98   0.000000  0  \n",
      "99   0.630709  0  \n",
      "\n",
      "[100 rows x 7 columns]\n"
     ]
    }
   ],
   "source": [
    "import pandas as pd\n",
    "\n",
    "# preprocessing\n",
    "df = pd.read_csv(\"features_training.csv\",  names= [\"nouncount\",\"adjectivecount\",\"pronouncount\",\"adverbcount\",\"pos_words\",\"neg_words\",\"y\"], nrows=100)\n",
    "\n",
    "print(df)\n",
    "\n",
    "accuracies = [[],[],[]]\n",
    "loops = []"
   ]
  },
  {
   "cell_type": "code",
   "execution_count": 168,
   "metadata": {
    "pycharm": {
     "name": "#%%\n"
    }
   },
   "outputs": [
    {
     "name": "stdout",
     "output_type": "stream",
     "text": [
      "[0.12393758523356815, 0.06431144172808746, 0.16439545367644132, 0.020884972753633355, 0.0, 2.3452217537777056, 0.0]\n",
      "[0.5311956274685616, 0.0, 0.0, 0.0, 0.0, 0.0, 2.0]\n",
      "[0.19831281388600286, 0.0, 0.0, 0.060756284374206125, 0.0, 0.0, 4.0]\n"
     ]
    }
   ],
   "source": [
    "# K-means model\n",
    "\n",
    "K = 3 #(0 = negative, 2 = neutral, 4 = positive)\n",
    "labels = [0, 2, 4]\n",
    "\n",
    "#select random sample as initial centroids\n",
    "import random\n",
    "\n",
    "\n",
    "Centroids = []\n",
    "for i in range(K):\n",
    "    sublist =  df[df[\"y\"] == labels[i]]\n",
    "    sample = sublist.iloc[random.randint(0, len(sublist)-1),:]\n",
    "    Centroids.append(sample.values.tolist())\n",
    "    print(Centroids[i])"
   ]
  },
  {
   "cell_type": "code",
   "execution_count": 169,
   "metadata": {
    "pycharm": {
     "name": "#%%\n"
    }
   },
   "outputs": [
    {
     "name": "stdout",
     "output_type": "stream",
     "text": [
      "Cluster with row indices:  [[14, 16, 24, 35, 36, 39, 40, 43, 92, 94, 97], [8, 19, 28, 48, 50, 55, 57, 67, 71, 76, 80, 83], [0, 1, 2, 3, 4, 5, 6, 7, 9, 10, 11, 12, 13, 15, 17, 18, 20, 21, 22, 23, 25, 26, 27, 29, 30, 31, 32, 33, 34, 37, 38, 41, 42, 44, 45, 46, 47, 49, 51, 52, 53, 54, 56, 58, 59, 60, 61, 62, 63, 64, 65, 66, 68, 69, 70, 72, 73, 74, 75, 77, 78, 79, 81, 82, 84, 85, 86, 87, 88, 89, 90, 91, 93, 95, 96, 98, 99]]\n",
      "Centroids:  [[0.17500769047277276, 0.08189930244685999, 0.03551757373315354, 0.03125581987198917, 0.6338128371531165, 1.963045749373073], [0.5120990146753578, 0.002677178873287228, 0.0, 0.0031329999999020613, 0.05012799999843299, 0.03891066831209444], [0.22660264307074338, 0.04182966241027795, 0.021273249375380037, 0.026295005731532515, 0.3432264477996259, 0.2707596204107492]]\n",
      "Converged in  0  loops\n"
     ]
    }
   ],
   "source": [
    "nloop = 0\n",
    "while True:\n",
    "    cluster = [[] for i in range(K)]\n",
    "    new_center = [[0 for i in range(len(df.columns)-1)] for j in range(K)]\n",
    "\n",
    "    for index, row in df.iterrows():\n",
    "        min_ = float('inf')\n",
    "        min_i = 0\n",
    "\n",
    "        d = [0 for i in range(K)]\n",
    "        for c in range(K):\n",
    "            dist = 0 #eulerian distance\n",
    "            for i in range(len(df.columns)-1):\n",
    "                dist += (row[i] - Centroids[c][i])*(row[i] - Centroids[c][i])\n",
    "            d[c] = dist\n",
    "        \n",
    "        #find the closest centroid\n",
    "        min_ = min(d)\n",
    "        min_i = d.index(min_)\n",
    "        cluster[min_i].append(index)\n",
    "        new_center[min_i] += row[:-1]\n",
    "\n",
    "    #calculate new centroids\n",
    "    for k in range(K):\n",
    "        new_center[k] = [n / len(cluster[k]) for n in new_center[k]]\n",
    "        \n",
    "    #if converged, quit loop\n",
    "    if sum([Centroids[i][j] - new_center[i][j] for i in range(K) for j in range(len(Centroids)-1)]) < 0.00000001:\n",
    "        break\n",
    "    Centroids = new_center\n",
    "    nloop+=1\n",
    "\n",
    "loops.append(nloop)\n",
    "print(\"Cluster with row indices: \",cluster)\n",
    "print(\"Centroids: \", new_center)\n",
    "print(\"Converged in \", nloop,\" loops\")"
   ]
  },
  {
   "cell_type": "code",
   "execution_count": 170,
   "metadata": {},
   "outputs": [
    {
     "name": "stdout",
     "output_type": "stream",
     "text": [
      "[0.4675324675324675, 0.5, 0.7272727272727273]\n"
     ]
    }
   ],
   "source": [
    "#test\n",
    "cluster = [{0:0, 2:0, 4:0} for i in range(K)]\n",
    "new_center = [[0 for i in range(len(df.columns)-1)] for j in range(K)]\n",
    "\n",
    "#find the closest centroids\n",
    "for index, row in df.iterrows():\n",
    "    min_ = float('inf')\n",
    "    min_i = 0\n",
    "\n",
    "    d = [0 for i in range(K)]\n",
    "    for c in range(K):\n",
    "        dist = 0\n",
    "        for i in range(len(df.columns)-1):\n",
    "            dist += (row[i] - Centroids[c][i])*(row[i] - Centroids[c][i])\n",
    "        d[c] = dist\n",
    "\n",
    "    min_ = min(d)\n",
    "    min_i = d.index(min_)\n",
    "    cluster[min_i][row[-1]] += 1\n",
    "\n",
    "#calculating the highest accuracy percentage among labels from the percentage.\n",
    "accuracy_list = []\n",
    "for d in cluster:\n",
    "    accuracy_list.append(max([n/sum(d.values()) for n in d.values()]))\n",
    "accuracy_list = sorted(accuracy_list)\n",
    "\n",
    "for k in range(K):\n",
    "    accuracies[k].append(accuracy_list[k])\n",
    "print(accuracy_list)"
   ]
  },
  {
   "cell_type": "code",
   "execution_count": 171,
   "metadata": {},
   "outputs": [
    {
     "name": "stdout",
     "output_type": "stream",
     "text": [
      "average accuracy: \n",
      "0.44854086068387344\n",
      "0.6485945547821682\n",
      "0.8069028925591774\n",
      "\n",
      "average loop: \n",
      "1.1\n",
      "after running k-means clustering 20 times.\n"
     ]
    }
   ],
   "source": [
    "print(\"average accuracy: \")\n",
    "from statistics import mean\n",
    "for k in range(K):\n",
    "    print(mean(accuracies[k]))\n",
    "print(\"\") \n",
    "\n",
    "print(\"average loop: \")\n",
    "print(mean(loops))\n",
    "\n",
    "print(\"after running k-means clustering\" , len(loops) , \"times.\")"
   ]
  },
  {
   "cell_type": "code",
   "execution_count": null,
   "metadata": {},
   "outputs": [],
   "source": []
  },
  {
   "cell_type": "code",
   "execution_count": null,
   "metadata": {},
   "outputs": [],
   "source": []
  }
 ],
 "metadata": {
  "kernelspec": {
   "display_name": "Python 3",
   "language": "python",
   "name": "python3"
  },
  "language_info": {
   "codemirror_mode": {
    "name": "ipython",
    "version": 3
   },
   "file_extension": ".py",
   "mimetype": "text/x-python",
   "name": "python",
   "nbconvert_exporter": "python",
   "pygments_lexer": "ipython3",
   "version": "3.7.6"
  }
 },
 "nbformat": 4,
 "nbformat_minor": 1
}
