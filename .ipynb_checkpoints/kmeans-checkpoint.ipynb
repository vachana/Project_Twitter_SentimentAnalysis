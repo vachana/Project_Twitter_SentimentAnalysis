{
 "cells": [
  {
   "cell_type": "code",
   "execution_count": 1,
   "metadata": {},
   "outputs": [
    {
     "name": "stdout",
     "output_type": "stream",
     "text": [
      "    nouncount  adjectivecount  pronouncount  adverbcount  pos_words  \\\n",
      "0    0.105139        0.098198      0.041470     0.030055   2.044192   \n",
      "1    0.222596        0.028947      0.044684     0.000000   0.376309   \n",
      "2    0.194861        0.048089      0.019363     0.000000   0.000000   \n",
      "3    0.138421        0.078070      0.036644     0.030747   0.413919   \n",
      "4    0.090290        0.095891      0.026909     0.040074   1.442656   \n",
      "..        ...             ...           ...          ...        ...   \n",
      "95   0.322793        0.100079      0.036494     0.000000   0.721328   \n",
      "96   0.342374        0.167080      0.000000     0.000000   0.000000   \n",
      "97   0.085392        0.102310      0.047823     0.056139   0.376309   \n",
      "98   0.124915        0.164216      0.022342     0.128872   0.000000   \n",
      "99   0.207336        0.000000      0.034049     0.049130   0.540090   \n",
      "\n",
      "    neg_words  y  \n",
      "0    0.000000  4  \n",
      "1    0.000000  4  \n",
      "2    0.630709  4  \n",
      "3    0.811947  4  \n",
      "4    0.000000  4  \n",
      "..        ... ..  \n",
      "95   0.601536  4  \n",
      "96   0.668319  0  \n",
      "97   2.090822  0  \n",
      "98   0.000000  0  \n",
      "99   0.630709  0  \n",
      "\n",
      "[100 rows x 7 columns]\n"
     ]
    }
   ],
   "source": [
    "import pandas as pd\n",
    "\n",
    "# preprocessing\n",
    "df = pd.read_csv(\"features_training.csv\",  names= [\"nouncount\",\"adjectivecount\",\"pronouncount\",\"adverbcount\",\"pos_words\",\"neg_words\",\"y\"], nrows=100)\n",
    "\n",
    "print(df)\n",
    "\n",
    "accuracies = [[],[],[]]\n",
    "loops = []"
   ]
  },
  {
   "cell_type": "code",
   "execution_count": 86,
   "metadata": {
    "pycharm": {
     "name": "#%%\n"
    }
   },
   "outputs": [
    {
     "name": "stdout",
     "output_type": "stream",
     "text": [
      "[0.4866588694249589, 0.0, 0.0, 0.0, 0.0, 0.0, 0.0]\n",
      "[0.22487772297615385, 0.0, 0.0, 0.03530204075459655, 0.41391926879513663, 2.1348108164031805, 0.0]\n",
      "[0.0, 0.2355804895561528, 0.032318123736015586, 0.0, 0.0, 1.4134829373369169, 0.0]\n"
     ]
    }
   ],
   "source": [
    "# K-means model\n",
    "\n",
    "K = 3 #(0 = negative, 2 = neutral, 4 = positive)\n",
    "\n",
    "#select random sample as initial centroids\n",
    "import random\n",
    "\n",
    "Centroids = []\n",
    "for i in range(K):\n",
    "    sample = df.iloc[random.randint(0, len(df)-1),:]\n",
    "    Centroids.append(sample.values.tolist())\n",
    "    print(Centroids[i])"
   ]
  },
  {
   "cell_type": "code",
   "execution_count": 87,
   "metadata": {
    "pycharm": {
     "name": "#%%\n"
    }
   },
   "outputs": [
    {
     "name": "stdout",
     "output_type": "stream",
     "text": [
      "Cluster with row indices:  [[0, 1, 4, 5, 6, 7, 8, 9, 10, 12, 13, 15, 17, 18, 19, 20, 21, 22, 23, 25, 26, 28, 30, 31, 32, 41, 45, 46, 47, 48, 50, 52, 53, 55, 56, 57, 59, 60, 61, 62, 63, 65, 66, 67, 68, 69, 70, 71, 72, 73, 74, 76, 77, 78, 80, 81, 82, 83, 84, 85, 86, 88, 98], [14, 16, 24, 35, 39, 40, 43, 97], [2, 3, 11, 27, 29, 33, 34, 36, 37, 38, 42, 44, 49, 51, 54, 58, 64, 75, 79, 87, 89, 90, 91, 92, 93, 94, 95, 96, 99]]\n",
      "Centroids:  [[0.28299024443015586, 0.030777627138666108, 0.01618970285969318, 0.020745163877525268, 0.32587558375408554, 0.02965201433291053], [0.18002236162551083, 0.06970178754442305, 0.03728821137302356, 0.03658676098503634, 0.8714926510855353, 2.1870852800415634], [0.21552110329821098, 0.057148195479136535, 0.024499191097382474, 0.027809863715666433, 0.22413140358775863, 0.8118676859024399]]\n",
      "Converged in  1  loops\n"
     ]
    }
   ],
   "source": [
    "nloop = 0\n",
    "while True:\n",
    "    cluster = [[] for i in range(K)]\n",
    "    new_center = [[0 for i in range(len(df.columns)-1)] for j in range(K)]\n",
    "\n",
    "    for index, row in df.iterrows():\n",
    "        min_ = float('inf')\n",
    "        min_i = 0\n",
    "\n",
    "        d = [0 for i in range(K)]\n",
    "        for c in range(K):\n",
    "            dist = 0 #eulerian distance\n",
    "            for i in range(len(df.columns)-1):\n",
    "                dist += (row[i] - Centroids[c][i])*(row[i] - Centroids[c][i])\n",
    "            d[c] = dist\n",
    "        \n",
    "        #find the closest centroid\n",
    "        min_ = min(d)\n",
    "        min_i = d.index(min_)\n",
    "        cluster[min_i].append(index)\n",
    "        new_center[min_i] += row[:-1]\n",
    "\n",
    "    #calculate new centroids\n",
    "    for k in range(K):\n",
    "        new_center[k] = [n / len(cluster[k]) for n in new_center[k]]\n",
    "        \n",
    "    #if converged, quit loop\n",
    "    if sum([Centroids[i][j] - new_center[i][j] for i in range(K) for j in range(len(Centroids)-1)]) < 0.00000001:\n",
    "        break\n",
    "    Centroids = new_center\n",
    "    nloop+=1\n",
    "\n",
    "loops.append(nloop)\n",
    "print(\"Cluster with row indices: \",cluster)\n",
    "print(\"Centroids: \", new_center)\n",
    "print(\"Converged in \", nloop,\" loops\")"
   ]
  },
  {
   "cell_type": "code",
   "execution_count": 88,
   "metadata": {},
   "outputs": [
    {
     "name": "stdout",
     "output_type": "stream",
     "text": [
      "[0.5396825396825397, 0.625, 0.6896551724137931]\n"
     ]
    }
   ],
   "source": [
    "#test\n",
    "cluster = [{0:0, 2:0, 4:0} for i in range(K)]\n",
    "new_center = [[0 for i in range(len(df.columns)-1)] for j in range(K)]\n",
    "\n",
    "#find the closest centroids\n",
    "for index, row in df.iterrows():\n",
    "    min_ = float('inf')\n",
    "    min_i = 0\n",
    "\n",
    "    d = [0 for i in range(K)]\n",
    "    for c in range(K):\n",
    "        dist = 0\n",
    "        for i in range(len(df.columns)-1):\n",
    "            dist += (row[i] - Centroids[c][i])*(row[i] - Centroids[c][i])\n",
    "        d[c] = dist\n",
    "\n",
    "    min_ = min(d)\n",
    "    min_i = d.index(min_)\n",
    "    cluster[min_i][row[-1]] += 1\n",
    "\n",
    "#calculating the highest accuracy percentage among labels from the percentage.\n",
    "accuracy_list = []\n",
    "for d in cluster:\n",
    "    accuracy_list.append(max([n/sum(d.values()) for n in d.values()]))\n",
    "accuracy_list = sorted(accuracy_list)\n",
    "\n",
    "for k in range(K):\n",
    "    accuracies[k].append(accuracy_list[k])\n",
    "print(accuracy_list)"
   ]
  },
  {
   "cell_type": "code",
   "execution_count": 89,
   "metadata": {},
   "outputs": [
    {
     "name": "stdout",
     "output_type": "stream",
     "text": [
      "average accuracy: \n",
      "0.4617795474911491\n",
      "0.6773847379487623\n",
      "0.8384412942838266\n",
      "\n",
      "average loop: \n",
      "1.3\n",
      "after running k-means clustering 20 times.\n"
     ]
    }
   ],
   "source": [
    "print(\"average accuracy: \")\n",
    "from statistics import mean\n",
    "for k in range(K):\n",
    "    print(mean(accuracies[k]))\n",
    "print(\"\") \n",
    "\n",
    "print(\"average loop: \")\n",
    "print(mean(loops))\n",
    "\n",
    "print(\"after running k-means clustering\" , len(loops) , \"times.\")"
   ]
  },
  {
   "cell_type": "code",
   "execution_count": null,
   "metadata": {},
   "outputs": [],
   "source": []
  }
 ],
 "metadata": {
  "kernelspec": {
   "display_name": "Python 3",
   "language": "python",
   "name": "python3"
  },
  "language_info": {
   "codemirror_mode": {
    "name": "ipython",
    "version": 3
   },
   "file_extension": ".py",
   "mimetype": "text/x-python",
   "name": "python",
   "nbconvert_exporter": "python",
   "pygments_lexer": "ipython3",
   "version": "3.7.6"
  }
 },
 "nbformat": 4,
 "nbformat_minor": 1
}
