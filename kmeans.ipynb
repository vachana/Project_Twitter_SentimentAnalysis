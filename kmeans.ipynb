{
 "cells": [
  {
   "cell_type": "code",
   "execution_count": 87,
   "metadata": {},
   "outputs": [
    {
     "name": "stdout",
     "output_type": "stream",
     "text": [
      "    nouncount  adjectivecount  pronouncount  adverbcount       pos       neg  \\\n",
      "0    0.105139        0.098198      0.041470     0.030055  2.044192  0.000000   \n",
      "1    0.222596        0.028947      0.044684     0.000000  0.376309  0.000000   \n",
      "2    0.194861        0.048089      0.019363     0.000000  0.000000  0.630709   \n",
      "3    0.138421        0.078070      0.036644     0.030747  0.413919  0.811947   \n",
      "4    0.090290        0.095891      0.026909     0.040074  1.442656  0.000000   \n",
      "..        ...             ...           ...          ...       ...       ...   \n",
      "95   0.322793        0.100079      0.036494     0.000000  0.721328  0.601536   \n",
      "96   0.342374        0.167080      0.000000     0.000000  0.000000  0.668319   \n",
      "97   0.085392        0.102310      0.047823     0.056139  0.376309  2.090822   \n",
      "98   0.124915        0.164216      0.022342     0.128872  0.000000  0.000000   \n",
      "99   0.207336        0.000000      0.034049     0.049130  0.540090  0.630709   \n",
      "\n",
      "    y  \n",
      "0   4  \n",
      "1   4  \n",
      "2   4  \n",
      "3   4  \n",
      "4   4  \n",
      ".. ..  \n",
      "95  4  \n",
      "96  0  \n",
      "97  0  \n",
      "98  0  \n",
      "99  0  \n",
      "\n",
      "[100 rows x 7 columns]\n"
     ]
    }
   ],
   "source": [
    "import pandas as pd\n",
    "\n",
    "# preprocessing\n",
    "df = pd.read_csv(\"features_test.csv\",  names= [\"nouncount\",\"adjectivecount\",\"pronouncount\",\"adverbcount\",\"pos\",\"neg\",\"y\"], nrows=100)\n",
    "\n",
    "print(df)"
   ]
  },
  {
   "cell_type": "code",
   "execution_count": 104,
   "metadata": {
    "pycharm": {
     "name": "#%%\n"
    }
   },
   "outputs": [
    {
     "name": "stdout",
     "output_type": "stream",
     "text": [
      "[0.206373098287112, 0.01070871549314891, 0.010772707912005195, 0.030974837668588332, 0.0, 0.0, 0.0]\n",
      "[0.09028961753518734, 0.09589064973881473, 0.02690851076466655, 0.040073771059236894, 1.442655758132528, 0.0, 4.0]\n",
      "[0.34237350384757764, 0.16707978202906684, 0.0, 0.0, 0.0, 0.6683191281162674, 0.0]\n"
     ]
    }
   ],
   "source": [
    "# K-means model\n",
    "\n",
    "K = 3 #(0 = negative, 2 = neutral, 4 = positive)\n",
    "\n",
    "#select random sample as initial centroids\n",
    "import random\n",
    "\n",
    "Centroids = []\n",
    "for i in range(K):\n",
    "    sample = df.iloc[random.randint(0, len(df)-1),:]\n",
    "    Centroids.append(sample.values.tolist())\n",
    "    print(Centroids[i])"
   ]
  },
  {
   "cell_type": "code",
   "execution_count": 105,
   "metadata": {
    "pycharm": {
     "name": "#%%\n"
    }
   },
   "outputs": [
    {
     "name": "stdout",
     "output_type": "stream",
     "text": [
      "Cluster with row indices:  [[1, 5, 6, 7, 8, 9, 10, 13, 15, 17, 18, 19, 21, 22, 23, 25, 26, 28, 30, 31, 41, 45, 46, 47, 48, 50, 52, 53, 55, 56, 57, 59, 61, 62, 63, 65, 66, 67, 68, 69, 70, 71, 72, 74, 76, 77, 78, 80, 81, 83, 84, 85, 86, 88, 93, 98], [0, 4, 12, 20, 24, 32, 33, 40, 60, 73, 82], [2, 3, 11, 14, 16, 27, 29, 34, 35, 36, 37, 38, 39, 42, 43, 44, 49, 51, 54, 58, 64, 75, 79, 87, 89, 90, 91, 92, 94, 95, 96, 97, 99]]\n",
      "Centroids:  [[0.2931434291070613, 0.026402252750213094, 0.015577064388139824, 0.021856688264134595, 0.16853537030155605, 0.036135678004002345], [0.18828658879312055, 0.05104385950653103, 0.0227482455701819, 0.0318826548665305, 1.6424040152341512, 0.4996252894233806], [0.2130755085161294, 0.06405739001219798, 0.027460218362458176, 0.025195203442282908, 0.196893599538602, 1.0724074509877366]]\n",
      "Converged in  2  loops\n"
     ]
    }
   ],
   "source": [
    "nloop = 0\n",
    "while True:\n",
    "    cluster = [[] for i in range(K)]\n",
    "    new_center = [[0 for i in range(len(df.columns)-1)] for j in range(K)]\n",
    "\n",
    "    for index, row in df.iterrows():\n",
    "        min_ = float('inf')\n",
    "        min_i = 0\n",
    "\n",
    "        d = [0 for i in range(K)]\n",
    "        for c in range(K):\n",
    "            dist = 0\n",
    "            for i in range(len(df.columns)-1):\n",
    "                dist += (row[i] - Centroids[c][i])*(row[i] - Centroids[c][i])\n",
    "            d[c] = dist\n",
    "\n",
    "        min_ = min(d)\n",
    "        min_i = d.index(min_)\n",
    "        cluster[min_i].append(index)\n",
    "        new_center[min_i] += row[:-1]\n",
    "\n",
    "    for k in range(K):\n",
    "        new_center[k] = [n / len(cluster[k]) for n in new_center[k]]\n",
    "        \n",
    "    if sum([Centroids[i][j] - new_center[i][j] for i in range(K) for j in range(len(Centroids)-1)]) < 0.00000001:\n",
    "        break\n",
    "    Centroids = new_center\n",
    "    nloop+=1\n",
    "\n",
    "print(\"Cluster with row indices: \",cluster)\n",
    "print(\"Centroids: \", new_center)\n",
    "print(\"Converged in \", nloop,\" loops\")"
   ]
  },
  {
   "cell_type": "code",
   "execution_count": 106,
   "metadata": {},
   "outputs": [
    {
     "name": "stdout",
     "output_type": "stream",
     "text": [
      "[0.4642857142857143, 0.9090909090909091, 0.696969696969697]\n"
     ]
    }
   ],
   "source": [
    "#test\n",
    "cluster = [{0:0, 2:0, 4:0} for i in range(K)]\n",
    "new_center = [[0 for i in range(len(df.columns)-1)] for j in range(K)]\n",
    "\n",
    "for index, row in df.iterrows():\n",
    "    min_ = float('inf')\n",
    "    min_i = 0\n",
    "\n",
    "    d = [0 for i in range(K)]\n",
    "    for c in range(K):\n",
    "        dist = 0\n",
    "        for i in range(len(df.columns)-1):\n",
    "            dist += (row[i] - Centroids[c][i])*(row[i] - Centroids[c][i])\n",
    "        d[c] = dist\n",
    "\n",
    "    min_ = min(d)\n",
    "    min_i = d.index(min_)\n",
    "    cluster[min_i][row[-1]] += 1\n",
    "\n",
    "accuracy_list = []\n",
    "for d in cluster:\n",
    "    accuracy_list.append(max([n/sum(d.values()) for n in d.values()]))\n",
    "print(accuracy_list)"
   ]
  },
  {
   "cell_type": "code",
   "execution_count": null,
   "metadata": {},
   "outputs": [],
   "source": []
  }
 ],
 "metadata": {
  "kernelspec": {
   "display_name": "Python 3",
   "language": "python",
   "name": "python3"
  },
  "language_info": {
   "codemirror_mode": {
    "name": "ipython",
    "version": 3
   },
   "file_extension": ".py",
   "mimetype": "text/x-python",
   "name": "python",
   "nbconvert_exporter": "python",
   "pygments_lexer": "ipython3",
   "version": "3.7.6"
  }
 },
 "nbformat": 4,
 "nbformat_minor": 1
}
